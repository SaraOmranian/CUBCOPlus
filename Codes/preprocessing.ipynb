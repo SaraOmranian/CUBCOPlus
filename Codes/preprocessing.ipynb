{
 "cells": [
  {
   "cell_type": "code",
   "execution_count": null,
   "metadata": {},
   "outputs": [],
   "source": [
    "from IPython.core.interactiveshell import InteractiveShell\n",
    "InteractiveShell.ast_node_interactivity = \"all\"\n",
    "\n",
    "import networkx as nx\n",
    "import matplotlib.pyplot as plt\n",
    "from matplotlib.pyplot import figure\n",
    "import itertools\n",
    "\n",
    "import os\n",
    "from os import listdir\n",
    "from os.path import isfile, join\n",
    "import networkx as nx\n",
    "import math\n",
    "import pandas as pd"
   ]
  },
  {
   "cell_type": "code",
   "execution_count": null,
   "metadata": {},
   "outputs": [],
   "source": [
    "\n",
    "def ave_number_of_p3(e,G):\n",
    "    ws = [p for p in nx.all_simple_paths(G,e[0],e[1],cutoff=3) if len(p)==4]\n",
    "    s = 0\n",
    "    if ws:\n",
    "        for w in ws:\n",
    "            s += 1/(math.sqrt(nx.degree(G,w[1])*nx.degree(G,w[2])))\n",
    "            "
   ]
  },
  {
   "cell_type": "code",
   "execution_count": null,
   "metadata": {},
   "outputs": [],
   "source": [
    "if __name__ == '__main__':\n",
    "    \n",
    "    mypath = os.getcwd()\n",
    "    organism_folders = [f for f in listdir(mypath) if not isfile(join(mypath, f))]\n",
    "    for org_folder in organism_folders:\n",
    "        path_org = mypath + '\\\\' + org_folder\n",
    "        onlyfolders = [f for f in listdir(path_org) if not isfile(join(path_org, f))]\n",
    "        for folder in onlyfolders:\n",
    "            p = path_org + '\\\\' + folder\n",
    "            textFiles = [f for f in listdir(p) if (isfile(join(p, f)) and f.endswith('.txt'))]\n",
    "            for file in textFiles:\n",
    "                g_add = p + '\\\\' + file\n",
    "                \n",
    "                new_edges = list()\n",
    "                G = nx.read_weighted_edgelist(g_add, create_using = nx.Graph(), nodetype = str)\n",
    "\n",
    "                for g in nx.connected_components(G):\n",
    "                    g_cmp = nx.complement(nx.induced_subgraph(G,g))\n",
    "                    for edge in g_cmp.edges():\n",
    "                        new_edges.append(ave_number_of_p3(edge, G))\n",
    "                        \n",
    "                n = p + '\\\\' + file.strip('_Graph.txt') + '_weightedP3_Graph.txt'\n",
    "                with open(n,'w') as f:\n",
    "                    for e in new_edges:\n",
    "                        f.writelines(\"{0} {1} {2}\\n\".format(e[0],e[1],e[2]))  "
   ]
  }
 ],
 "metadata": {
  "kernelspec": {
   "display_name": "Python 3",
   "language": "python",
   "name": "python3"
  },
  "language_info": {
   "codemirror_mode": {
    "name": "ipython",
    "version": 3
   },
   "file_extension": ".py",
   "mimetype": "text/x-python",
   "name": "python",
   "nbconvert_exporter": "python",
   "pygments_lexer": "ipython3",
   "version": "3.8.5"
  }
 },
 "nbformat": 4,
 "nbformat_minor": 4
}
